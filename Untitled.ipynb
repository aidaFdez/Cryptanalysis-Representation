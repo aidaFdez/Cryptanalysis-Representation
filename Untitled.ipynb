{
 "cells": [
  {
   "cell_type": "code",
   "execution_count": 12,
   "metadata": {},
   "outputs": [],
   "source": [
    "from sage.crypto.block_cipher.present import PRESENT\n",
    "import numpy as np"
   ]
  },
  {
   "cell_type": "code",
   "execution_count": 2,
   "metadata": {},
   "outputs": [],
   "source": [
    "present = PRESENT()"
   ]
  },
  {
   "cell_type": "code",
   "execution_count": 3,
   "metadata": {},
   "outputs": [
    {
     "data": {
      "text/plain": [
       "(12, 5, 6, 11, 9, 0, 10, 13, 3, 14, 15, 8, 4, 7, 1, 2)"
      ]
     },
     "execution_count": 3,
     "metadata": {},
     "output_type": "execute_result"
    }
   ],
   "source": [
    "present.sbox"
   ]
  },
  {
   "cell_type": "code",
   "execution_count": 4,
   "metadata": {},
   "outputs": [
    {
     "ename": "AttributeError",
     "evalue": "'PRESENT' object has no attribute 'pbox'",
     "output_type": "error",
     "traceback": [
      "\u001b[0;31m---------------------------------------------------------------------------\u001b[0m",
      "\u001b[0;31mAttributeError\u001b[0m                            Traceback (most recent call last)",
      "\u001b[0;32m<ipython-input-4-9a9d3a75b524>\u001b[0m in \u001b[0;36m<module>\u001b[0;34m()\u001b[0m\n\u001b[0;32m----> 1\u001b[0;31m \u001b[0mpresent\u001b[0m\u001b[0;34m.\u001b[0m\u001b[0mpbox\u001b[0m\u001b[0;34m\u001b[0m\u001b[0;34m\u001b[0m\u001b[0m\n\u001b[0m",
      "\u001b[0;31mAttributeError\u001b[0m: 'PRESENT' object has no attribute 'pbox'"
     ]
    }
   ],
   "source": [
    "present.pbox"
   ]
  },
  {
   "cell_type": "code",
   "execution_count": 13,
   "metadata": {},
   "outputs": [],
   "source": [
    "a = np.arange(64)"
   ]
  },
  {
   "cell_type": "code",
   "execution_count": 14,
   "metadata": {},
   "outputs": [
    {
     "name": "stdout",
     "output_type": "stream",
     "text": [
      "[ 0  1  2  3  4  5  6  7  8  9 10 11 12 13 14 15 16 17 18 19 20 21 22 23\n",
      " 24 25 26 27 28 29 30 31 32 33 34 35 36 37 38 39 40 41 42 43 44 45 46 47\n",
      " 48 49 50 51 52 53 54 55 56 57 58 59 60 61 62 63]\n"
     ]
    }
   ],
   "source": [
    "print(a)"
   ]
  },
  {
   "cell_type": "code",
   "execution_count": 15,
   "metadata": {},
   "outputs": [
    {
     "data": {
      "text/plain": [
       "[16  0  0  0  0  0  0  0  0  0  0  0  0  0  0  0]\n",
       "[ 0  0  0  4  0  0  0  4  0  4  0  0  0  4  0  0]\n",
       "[ 0  0  0  2  0  4  2  0  0  0  2  0  2  2  2  0]\n",
       "[ 0  2  0  2  2  0  4  2  0  0  2  2  0  0  0  0]\n",
       "[ 0  0  0  0  0  4  2  2  0  2  2  0  2  0  2  0]\n",
       "[ 0  2  0  0  2  0  0  0  0  2  2  2  4  2  0  0]\n",
       "[ 0  0  2  0  0  0  2  0  2  0  0  4  2  0  0  4]\n",
       "[ 0  4  2  0  0  0  2  0  2  0  0  0  2  0  0  4]\n",
       "[ 0  0  0  2  0  0  0  2  0  2  0  4  0  2  0  4]\n",
       "[ 0  0  2  0  4  0  2  0  2  0  0  0  2  0  4  0]\n",
       "[ 0  0  2  2  0  4  0  0  2  0  2  0  0  2  2  0]\n",
       "[ 0  2  0  0  2  0  0  0  4  2  2  2  0  2  0  0]\n",
       "[ 0  0  2  0  0  4  0  2  2  2  2  0  0  0  2  0]\n",
       "[ 0  2  4  2  2  0  0  2  0  0  2  2  0  0  0  0]\n",
       "[ 0  0  2  2  0  0  2  2  2  2  0  0  2  2  0  0]\n",
       "[ 0  4  0  0  4  0  0  0  0  0  0  0  0  0  4  4]"
      ]
     },
     "execution_count": 15,
     "metadata": {},
     "output_type": "execute_result"
    }
   ],
   "source": [
    "from sage.crypto.sbox import SBox\n",
    "s = SBox(present.sbox)\n",
    "s.difference_distribution_table()"
   ]
  },
  {
   "cell_type": "code",
   "execution_count": null,
   "metadata": {},
   "outputs": [],
   "source": []
  }
 ],
 "metadata": {
  "kernelspec": {
   "display_name": "SageMath 9.0",
   "language": "sage",
   "name": "sagemath"
  },
  "language_info": {
   "codemirror_mode": {
    "name": "ipython",
    "version": 3
   },
   "file_extension": ".py",
   "mimetype": "text/x-python",
   "name": "python",
   "nbconvert_exporter": "python",
   "pygments_lexer": "ipython3",
   "version": "3.7.3"
  }
 },
 "nbformat": 4,
 "nbformat_minor": 2
}
